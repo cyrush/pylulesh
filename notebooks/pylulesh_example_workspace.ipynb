{
 "metadata": {
  "name": "pylulesh_example_workspace"
 },
 "nbformat": 3,
 "nbformat_minor": 0,
 "worksheets": [
  {
   "cells": [
    {
     "cell_type": "code",
     "collapsed": false,
     "input": [
      "import pylulesh\n",
      "import notebook_utils\n",
      "notebook_utils.rebuild()"
     ],
     "language": "python",
     "metadata": {},
     "outputs": [],
     "prompt_number": 20
    },
    {
     "cell_type": "code",
     "collapsed": false,
     "input": [
      "m = pylulesh.Mesh([47,47,47])\n",
      "print m"
     ],
     "language": "python",
     "metadata": {},
     "outputs": [
      {
       "output_type": "stream",
       "stream": "stdout",
       "text": [
        "Mesh:\n",
        " element_dims = [47, 47, 47]\n",
        " nodal_dims   = [48, 48, 48]\n",
        " num_elements = 103823\n",
        " num_nodes    = 110592\n",
        " obase        = pylul_%04d\n",
        " cycle        = 0\n",
        " output_base  = pylul_0000\n",
        " element_vars = []\n",
        " nodal_vars   = []\n"
       ]
      }
     ],
     "prompt_number": 21
    },
    {
     "cell_type": "code",
     "collapsed": false,
     "input": [
      "m.add_nodal_var(\"e\")\n",
      "m.nodal_vars[\"e\"][0] = 3.948746e+7\n",
      "m.save()"
     ],
     "language": "python",
     "metadata": {},
     "outputs": [],
     "prompt_number": 22
    },
    {
     "cell_type": "code",
     "collapsed": false,
     "input": [
      "!visit -o pylul_0000.xmf"
     ],
     "language": "python",
     "metadata": {},
     "outputs": [
      {
       "output_type": "stream",
       "stream": "stdout",
       "text": [
        "Running: gui2.5.2 -o pylul_0000.xmf\r\n"
       ]
      },
      {
       "output_type": "stream",
       "stream": "stdout",
       "text": [
        "Running: viewer2.5.2 -host 127.0.0.1 -port 5600 -geometry 1515x980+405+50 -borders 24,4,2,2 -shift 2,25 -preshift 0,-1 -defer\r\n"
       ]
      },
      {
       "output_type": "stream",
       "stream": "stdout",
       "text": [
        "Running: mdserver2.5.2 -host 127.0.0.1 -port 5601\r\n"
       ]
      },
      {
       "output_type": "stream",
       "stream": "stdout",
       "text": [
        "Running: engine_ser2.5.2 -host 127.0.0.1 -port 5600\r\n"
       ]
      }
     ],
     "prompt_number": 23
    },
    {
     "cell_type": "code",
     "collapsed": false,
     "input": [],
     "language": "python",
     "metadata": {},
     "outputs": []
    }
   ],
   "metadata": {}
  }
 ]
}