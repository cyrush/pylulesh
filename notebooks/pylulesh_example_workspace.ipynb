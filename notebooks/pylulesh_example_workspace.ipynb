{
 "metadata": {
  "name": "pylulesh_example_workspace"
 },
 "nbformat": 3,
 "nbformat_minor": 0,
 "worksheets": [
  {
   "cells": [
    {
     "cell_type": "code",
     "collapsed": false,
     "input": [
      "import pylulesh\n",
      "import notebook_utils\n",
      "notebook_utils.rebuild()"
     ],
     "language": "python",
     "metadata": {},
     "outputs": [
      {
       "output_type": "stream",
       "stream": "stdout",
       "text": [
        "\n"
       ]
      }
     ],
     "prompt_number": 8
    },
    {
     "cell_type": "code",
     "collapsed": false,
     "input": [
      "m = pylulesh.Mesh([10,10,10])\n",
      "print m"
     ],
     "language": "python",
     "metadata": {},
     "outputs": [
      {
       "output_type": "stream",
       "stream": "stdout",
       "text": [
        "Mesh:\n",
        " element_dims = [10, 10, 10]\n",
        " nodal_dims   = [11, 11, 11]\n",
        " num_elements = 1000\n",
        " num_nodes    = 1331\n",
        " obase        = pylul_%04d\n",
        " cycle        = 0\n",
        " output_base  = pylul_0000\n",
        " element_vars = []\n",
        " nodal_vars   = []\n"
       ]
      }
     ],
     "prompt_number": 9
    },
    {
     "cell_type": "code",
     "collapsed": false,
     "input": [],
     "language": "python",
     "metadata": {},
     "outputs": []
    }
   ],
   "metadata": {}
  }
 ]
}