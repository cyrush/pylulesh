{
 "metadata": {
  "name": "pylulesh_example_workspace"
 },
 "nbformat": 3,
 "nbformat_minor": 0,
 "worksheets": [
  {
   "cells": [
    {
     "cell_type": "code",
     "collapsed": false,
     "input": [
      "import pylulesh\n",
      "import notebook_utils\n",
      "notebook_utils.rebuild()\n",
      "notebook_utils.load_visit_module(\"2.5.2\")\n",
      "import visit"
     ],
     "language": "python",
     "metadata": {},
     "outputs": [],
     "prompt_number": 1
    },
    {
     "cell_type": "code",
     "collapsed": false,
     "input": [
      "m = pylulesh.Mesh.default([47,47,47])\n",
      "print m"
     ],
     "language": "python",
     "metadata": {},
     "outputs": [
      {
       "output_type": "stream",
       "stream": "stdout",
       "text": [
        "Mesh:\n",
        " element_dims = [47, 47, 47]\n",
        " node_dims    = [48, 48, 48]\n",
        " num_elements = 103823\n",
        " num_nodes    = 110592\n",
        " obase        = pylul_%04d\n",
        " cycle        = 0\n",
        " output_base  = pylul_0000\n",
        " element_vars = ['p', 'e', 'q', 'v', 'vdov', 'delv', 'volo', 'arealg', 'dxx', 'dyy', 'dzz', 'ql', 'qq']\n",
        " node_vars   = ['xd', 'yd', 'zd', 'xdd', 'ydd', 'zdd', 'fx', 'fy', 'fz', 'mass']\n"
       ]
      }
     ],
     "prompt_number": 2
    },
    {
     "cell_type": "code",
     "collapsed": false,
     "input": [
      "m.element_vars[\"e\"][0] = 3.948746e+7\n",
      "m.save()"
     ],
     "language": "python",
     "metadata": {},
     "outputs": [],
     "prompt_number": 4
    },
    {
     "cell_type": "code",
     "collapsed": false,
     "input": [
      "visit.OpenDatabase(\"pylul_0000.xmf\")\n",
      "visit.AddPlot(\"Pseudocolor\",\"e\")\n",
      "visit.DrawPlots()\n",
      "visit.SaveWindow()"
     ],
     "language": "python",
     "metadata": {},
     "outputs": [
      {
       "output_type": "pyout",
       "prompt_number": 5,
       "text": [
        "'visit0004.png'"
       ]
      }
     ],
     "prompt_number": 5
    },
    {
     "cell_type": "code",
     "collapsed": false,
     "input": [],
     "language": "python",
     "metadata": {},
     "outputs": []
    }
   ],
   "metadata": {}
  }
 ]
}