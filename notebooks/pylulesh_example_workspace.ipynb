{
 "metadata": {
  "name": "pylulesh_example_workspace"
 },
 "nbformat": 3,
 "nbformat_minor": 0,
 "worksheets": [
  {
   "cells": [
    {
     "cell_type": "heading",
     "level": 3,
     "metadata": {},
     "source": [
      "PyLULESH Example"
     ]
    },
    {
     "cell_type": "code",
     "collapsed": false,
     "input": [
      "import numpy as np\n",
      "import pylulesh\n",
      "import notebook_utils"
     ],
     "language": "python",
     "metadata": {},
     "outputs": []
    },
    {
     "cell_type": "heading",
     "level": 4,
     "metadata": {},
     "source": [
      "Create a 47^3 Mesh:"
     ]
    },
    {
     "cell_type": "code",
     "collapsed": false,
     "input": [
      "m = pylulesh.Mesh.default([47,47,47])\n",
      "print m"
     ],
     "language": "python",
     "metadata": {},
     "outputs": []
    },
    {
     "cell_type": "heading",
     "level": 4,
     "metadata": {},
     "source": [
      "Deposit energy @ (0,0,0):"
     ]
    },
    {
     "cell_type": "code",
     "collapsed": false,
     "input": [
      "m.element_vars[\"e\"][0] = 3.948746e+7\n",
      "notebook_utils.render(m,\"e\")"
     ],
     "language": "python",
     "metadata": {},
     "outputs": []
    },
    {
     "cell_type": "heading",
     "level": 4,
     "metadata": {},
     "source": [
      "Call one of our kernel implementations to calc element volume:"
     ]
    },
    {
     "cell_type": "code",
     "collapsed": false,
     "input": [
      "pylulesh.kernel1_numba.element_volume(m)\n",
      "notebook_utils.render(m,\"v\")\n"
     ],
     "language": "python",
     "metadata": {},
     "outputs": []
    },
    {
     "cell_type": "code",
     "collapsed": false,
     "input": [
      "print \"Total volume:\", np.sum(m.element_vars[\"v\"])"
     ],
     "language": "python",
     "metadata": {},
     "outputs": []
    },
    {
     "cell_type": "heading",
     "level": 4,
     "metadata": {},
     "source": [
      "Add jitter to the coords and recalc volume:"
     ]
    },
    {
     "cell_type": "code",
     "collapsed": false,
     "input": [
      "m.wiggle_coords()\n",
      "pylulesh.kernel1_numba.element_volume(m)\n",
      "notebook_utils.render(m,\"v\")"
     ],
     "language": "python",
     "metadata": {},
     "outputs": []
    },
    {
     "cell_type": "code",
     "collapsed": false,
     "input": [
      "print \"Total volume:\", np.sum(m.element_vars[\"v\"])"
     ],
     "language": "python",
     "metadata": {},
     "outputs": []
    },
    {
     "cell_type": "heading",
     "level": 4,
     "metadata": {},
     "source": [
      "Run our suite of element volume kernels:"
     ]
    },
    {
     "cell_type": "code",
     "collapsed": false,
     "input": [
      "pylulesh.timing.run_kernel1()"
     ],
     "language": "python",
     "metadata": {},
     "outputs": []
    },
    {
     "cell_type": "code",
     "collapsed": false,
     "input": [],
     "language": "python",
     "metadata": {},
     "outputs": []
    }
   ],
   "metadata": {}
  }
 ]
}