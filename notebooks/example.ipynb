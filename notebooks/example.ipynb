{
 "metadata": {
  "name": "example"
 },
 "nbformat": 3,
 "nbformat_minor": 0,
 "worksheets": [
  {
   "cells": [
    {
     "cell_type": "heading",
     "level": 1,
     "metadata": {},
     "source": [
      "Matplotlib Example:"
     ]
    },
    {
     "cell_type": "code",
     "collapsed": false,
     "input": [
      "import numpy as np\n",
      "import pylab\n",
      "\n",
      "fig = pylab.figure()\n",
      "x = np.linspace(0,2*np.pi,100)\n",
      "y = 2*np.sin(x)\n",
      "ax = fig.add_subplot(1,1,1)\n",
      "ax.plot(x,y)"
     ],
     "language": "python",
     "metadata": {},
     "outputs": [
      {
       "output_type": "pyout",
       "prompt_number": 12,
       "text": [
        "[<matplotlib.lines.Line2D at 0x3231750>]"
       ]
      },
      {
       "output_type": "display_data",
       "png": "[encoded data removed]"
      }
     ],
     "prompt_number": 12
    },
    {
     "cell_type": "heading",
     "level": 1,
     "metadata": {},
     "source": [
      "Numba Example:"
     ]
    },
    {
     "cell_type": "code",
     "collapsed": false,
     "input": [
      "import numpy as np\n",
      "from numba import double, jit\n",
      "\n",
      "# simple 2d-array sum\n",
      "def sum2d(arr):\n",
      "    m, n = arr.shape\n",
      "    result = 0.0\n",
      "    for i in range(m):\n",
      "        for j in range(n):\n",
      "            result += arr[i,j]\n",
      "    return result\n",
      "\n",
      "#use numba's jit and double functions to invoke jit magic\n",
      "numba_sum2d = jit(double[:,:](double[:,:]))(sum2d)"
     ],
     "language": "python",
     "metadata": {},
     "outputs": [],
     "prompt_number": 19
    },
    {
     "cell_type": "code",
     "collapsed": false,
     "input": [
      "# test with a few sizes\n",
      "for sz in [10,100,1000]:\n",
      "    print \"\"\n",
      "    print \"shape: (%s,%s)\" % (str(sz),str(sz))\n",
      "    vals = np.ones(shape=(sz,sz),dtype=np.float64)\n",
      "    # time the pure python version\n",
      "    print \"[pure python]\",\n",
      "    %timeit sum2d(vals)\n",
      "    # time the numba version\n",
      "    print \"[numba]      \",\n",
      "    %timeit numba_sum2d(vals)"
     ],
     "language": "python",
     "metadata": {},
     "outputs": [
      {
       "output_type": "stream",
       "stream": "stdout",
       "text": [
        "\n",
        "shape: (10,10)\n",
        "[pure python] "
       ]
      },
      {
       "output_type": "stream",
       "stream": "stdout",
       "text": [
        "10000 loops, best of 3: 46.5 us per loop\n",
        "[numba]       "
       ]
      },
      {
       "output_type": "stream",
       "stream": "stdout",
       "text": [
        "1000000 loops, best of 3: 260 ns per loop\n",
        "\n",
        "shape: (100,100)\n",
        "[pure python] "
       ]
      },
      {
       "output_type": "stream",
       "stream": "stdout",
       "text": [
        "100 loops, best of 3: 4.13 ms per loop\n",
        "[numba]       "
       ]
      },
      {
       "output_type": "stream",
       "stream": "stdout",
       "text": [
        "100000 loops, best of 3: 9.95 us per loop\n",
        "\n",
        "shape: (1000,1000)\n",
        "[pure python] "
       ]
      },
      {
       "output_type": "stream",
       "stream": "stdout",
       "text": [
        "1 loops, best of 3: 415 ms per loop\n",
        "[numba]       "
       ]
      },
      {
       "output_type": "stream",
       "stream": "stdout",
       "text": [
        "1000 loops, best of 3: 984 us per loop\n"
       ]
      }
     ],
     "prompt_number": 18
    },
    {
     "cell_type": "code",
     "collapsed": false,
     "input": [],
     "language": "python",
     "metadata": {},
     "outputs": []
    }
   ],
   "metadata": {}
  }
 ]
}